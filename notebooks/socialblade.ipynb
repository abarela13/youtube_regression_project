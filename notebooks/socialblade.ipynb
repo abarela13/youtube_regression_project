{
 "metadata": {
  "language_info": {
   "codemirror_mode": {
    "name": "ipython",
    "version": 3
   },
   "file_extension": ".py",
   "mimetype": "text/x-python",
   "name": "python",
   "nbconvert_exporter": "python",
   "pygments_lexer": "ipython3",
   "version": "3.8.8"
  },
  "orig_nbformat": 2,
  "kernelspec": {
   "name": "python388jvsc74a57bd0e583136a3f54abb5329ac7c861fbbb0ea5afda1ce79984455fa000b60ac3fad7",
   "display_name": "Python 3.8.8 64-bit ('metis': conda)"
  }
 },
 "nbformat": 4,
 "nbformat_minor": 2,
 "cells": [
  {
   "cell_type": "code",
   "execution_count": 1,
   "metadata": {},
   "outputs": [],
   "source": [
    "from selenium.webdriver.chrome.options import Options\n",
    "from os import path, listdir, rename, getcwd\n",
    "from fake_useragent import UserAgent\n",
    "from dateutil.parser import parse\n",
    "from selenium import webdriver\n",
    "from bs4 import BeautifulSoup\n",
    "import pandas as pd\n",
    "import numpy as np\n",
    "import requests\n",
    "import pickle\n",
    "import time"
   ]
  },
  {
   "cell_type": "code",
   "execution_count": 2,
   "metadata": {},
   "outputs": [
    {
     "output_type": "execute_result",
     "data": {
      "text/plain": [
       "'Mozilla/5.0 (X11; Linux x86_64) AppleWebKit/537.36 (KHTML, like Gecko) Chrome/33.0.1750.517 Safari/537.36'"
      ]
     },
     "metadata": {},
     "execution_count": 2
    }
   ],
   "source": [
    "def chrome_user_agent():\n",
    "    return UserAgent().chrome\n",
    "\n",
    "chrome_user_agent()"
   ]
  },
  {
   "cell_type": "code",
   "execution_count": 3,
   "metadata": {},
   "outputs": [],
   "source": [
    "def chrome_driver():\n",
    "    options = Options()\n",
    "    # options.add_argument('--headless')\n",
    "    options.add_argument(\"window-size=1600,1080\")\n",
    "    options.add_argument(f'user-agent={chrome_user_agent()}')\n",
    "\n",
    "    return webdriver.Chrome(options=options)"
   ]
  },
  {
   "cell_type": "code",
   "execution_count": 4,
   "metadata": {},
   "outputs": [],
   "source": [
    "def socialblade(channel, driver):\n",
    "    driver.get(f'https://socialblade.com/youtube/channel/{channel}')\n",
    "    \n",
    "    soup = BeautifulSoup(driver.page_source, 'html.parser')\n",
    "\n",
    "    time.sleep(np.random.randint(4,7))\n",
    "    \n",
    "    return soup.find('body').prettify()"
   ]
  },
  {
   "cell_type": "code",
   "execution_count": 5,
   "metadata": {},
   "outputs": [],
   "source": [
    "def save_html(channel, soup):\n",
    "    # open the file in w mode, set encoding to UTF-8\n",
    "    with open(f\"../download/socialblade/new/{channel}.html\", \"w\") as f:\n",
    "        f.write(str(soup))"
   ]
  },
  {
   "cell_type": "code",
   "execution_count": 6,
   "metadata": {},
   "outputs": [],
   "source": [
    "def open_html(channel):\n",
    "    with open(channel, 'r') as f:\n",
    "        return f.read()"
   ]
  },
  {
   "cell_type": "code",
   "execution_count": 7,
   "metadata": {},
   "outputs": [],
   "source": [
    "def check_channel(channel, channels_dict):\n",
    "    # check if channel has been downloaded\n",
    "    if channel not in channels_dict.keys():\n",
    "        save_html(channel, socialblade(channel))\n",
    "        channels_dict[channel] = 'downloaded'\n",
    "\n",
    "    return channels_dict"
   ]
  },
  {
   "cell_type": "code",
   "execution_count": 8,
   "metadata": {},
   "outputs": [],
   "source": [
    "def load_channels_dict():\n",
    "    with open('../data/channels_dict', \"rb\") as f:\n",
    "        channels_dict = pickle.load(f)\n",
    "        return channels_dict"
   ]
  },
  {
   "cell_type": "code",
   "execution_count": 9,
   "metadata": {},
   "outputs": [],
   "source": [
    "def save_channels_dict(channels_dict):\n",
    "    # Save channels dictionary object\n",
    "    with open('../data/channels_dict', \"wb\") as f:\n",
    "        pickle.dump(channels_dict, f)"
   ]
  },
  {
   "cell_type": "code",
   "execution_count": 10,
   "metadata": {},
   "outputs": [],
   "source": [
    "def reset_channels_dictionary():\n",
    "    my_dict = load_channels_dict()\n",
    "\n",
    "    for key in my_dict.keys():\n",
    "        my_dict[key] = 'pending'\n",
    "\n",
    "    for file in listdir('../download/socialblade/new'):\n",
    "        my_dict[file[:-5]] = 'downloaded'\n",
    "\n",
    "    for file in listdir('../download/socialblade/valid'):\n",
    "        my_dict[file[:-5]] = 'valid'\n",
    "\n",
    "    for file in listdir('../download/socialblade/invalid'):\n",
    "        my_dict[file[:-5]] = 'invalid'\n",
    "\n",
    "    save_channels_dict(my_dict)"
   ]
  },
  {
   "cell_type": "code",
   "execution_count": 14,
   "metadata": {},
   "outputs": [
    {
     "output_type": "stream",
     "name": "stdout",
     "text": [
      "pending - 0\nvalid - 616\ninvalid - 19\ndownloaded - 877\n"
     ]
    }
   ],
   "source": [
    "my_dict = load_channels_dict()\n",
    "\n",
    "p_counter, v_counter, i_counter, d_counter = 0,0,0,0\n",
    "\n",
    "for key in my_dict.keys():\n",
    "    if my_dict[key] == 'pending':\n",
    "        p_counter += 1\n",
    "    elif my_dict[key] == 'valid':\n",
    "        v_counter += 1\n",
    "    elif my_dict[key] == 'invalid':\n",
    "        i_counter += 1\n",
    "    elif my_dict[key] == 'downloaded':\n",
    "        d_counter += 1\n",
    "\n",
    "print(f'pending - {p_counter}')\n",
    "print(f'valid - {v_counter}')\n",
    "print(f'invalid - {i_counter}')\n",
    "print(f'downloaded - {d_counter}')"
   ]
  },
  {
   "cell_type": "code",
   "execution_count": 15,
   "metadata": {},
   "outputs": [],
   "source": [
    "def download_missing_channels():\n",
    "    driver = chrome_driver()\n",
    "    driver.get('https://socialblade.com')\n",
    "    time.sleep(7)\n",
    "\n",
    "    channels_dict = load_channels_dict()\n",
    "\n",
    "    for channel in channels_dict.keys():\n",
    "        if channels_dict[channel] == 'pending':\n",
    "            save_html(channel, socialblade(channel, driver))\n",
    "\n",
    "            last = channel\n",
    "\n",
    "            channels_dict[channel] = 'downloaded'\n",
    "            save_channels_dict(channels_dict)\n",
    "\n",
    "    driver.close()"
   ]
  },
  {
   "cell_type": "code",
   "execution_count": 16,
   "metadata": {},
   "outputs": [],
   "source": [
    "download_missing_channels()"
   ]
  },
  {
   "cell_type": "code",
   "execution_count": 14,
   "metadata": {
    "tags": []
   },
   "outputs": [],
   "source": [
    "def process_channels():\n",
    "    channels_dict = load_channels_dict()\n",
    "\n",
    "    my_list = []\n",
    "\n",
    "    for channel in channels_dict.keys():\n",
    "        if channels_dict[channel] == 'downloaded':\n",
    "            file_name = f'../download/socialblade/{channel}.html'\n",
    "\n",
    "            channel_soup = BeautifulSoup(open_html(file_name))\n",
    "\n",
    "            if channel_soup.find('div', {'id': 'graph-youtube-monthly-vidviews-container'}):\n",
    "                channels_dict[channel] = 'valid'\n",
    "        else:\n",
    "            channels_dict[channel] = 'invalid'\n",
    "    \n",
    "    for channel in channels_dict.keys():\n",
    "        if channels_dict[channel] == 'valid':\n",
    "            file_name = f'../download/socialblade/{channel}.html'\n",
    "\n",
    "            channel_soup = BeautifulSoup(open_html(file_name))\n",
    "\n",
    "            top_info = channel_soup.findAll('div', {'class': 'YouTubeUserTopInfo'})\n",
    "            \n",
    "            name = channel_soup.find('div', {'id': 'YouTubeUserTopInfoBlockTop'}).find('h1').text.strip()\n",
    "            uploads = int(top_info[0].findAll('span')[1].text.replace(',', ''))\n",
    "            subscribers = top_info[1].findAll('span')[1].text.strip()\n",
    "            total_views = int(top_info[2].findAll('span')[1].text.replace(',', ''))\n",
    "            created = parse(top_info[5].findAll('span')[1].text.strip()).date()\n",
    "            daily_avg_sub = channel_soup.find('div', {'id': 'averagedailysubs'}).text.strip().replace(',','')\n",
    "            daily_avg_views = channel_soup.find('div', {'id': 'averagedailyviews'}).text.strip().replace(',','')\n",
    "            \n",
    "            my_list.append([channel, name, uploads, subscribers, total_views, created, daily_avg_sub, daily_avg_views])\n",
    "\n",
    "    save_channels_dict(channels_dict)\n",
    "\n",
    "    return my_list\n",
    "    "
   ]
  },
  {
   "cell_type": "code",
   "execution_count": 15,
   "metadata": {
    "tags": []
   },
   "outputs": [],
   "source": [
    "df_columns = ['channel', 'name', 'uploads', 'subscribers', 'total_views', 'created', 'daily_avg_sub', 'daily_avg_views']\n",
    "channels_df = pd.DataFrame(process_channels(), columns=df_columns).set_index('channel')"
   ]
  },
  {
   "cell_type": "code",
   "execution_count": 16,
   "metadata": {},
   "outputs": [
    {
     "output_type": "execute_result",
     "data": {
      "text/plain": [
       "                                              name  uploads subscribers  \\\n",
       "channel                                                                   \n",
       "UCSF0PqIaps7jindnj6ICTfQ                    EyeQew      370       6.64K   \n",
       "UCiDLfLRyN09V7k14MLf_56Q              MxghtyJxstin      390       26.8K   \n",
       "UCIHpnxcP9qGozuEJMYwrJWA                  iSighttt       27         245   \n",
       "UCG-3jh0W8E4igpKFU2IV8UA          Shoobie and Toys       60       1.23K   \n",
       "UC1r60D56JuOPv8BBUM0t8qA  Creeper Noob - Minecraft      356        376K   \n",
       "...                                            ...      ...         ...   \n",
       "UCJ3eQY5XU9IqFWymrQlDDAA                Retr0 _ONG       49          20   \n",
       "UCwhYxesK3zq7ML41AlBsqVg             BloodRodd3097       94         246   \n",
       "UCvCKPrYpQdO6wtiT9G4RJLw    ChickenDock6549 Gaming       81         155   \n",
       "UCUKEGjiSoFnemBsCLKrdeJA               BoardGameCo      548       25.6K   \n",
       "UCS7dY6MyZMulVvBD_X-aMUQ                     James       71        236K   \n",
       "\n",
       "                          total_views     created daily_avg_sub  \\\n",
       "channel                                                           \n",
       "UCSF0PqIaps7jindnj6ICTfQ      1179397  2019-05-17           +12   \n",
       "UCiDLfLRyN09V7k14MLf_56Q      3945939  2019-07-07           +67   \n",
       "UCIHpnxcP9qGozuEJMYwrJWA        12160  2020-03-21            +1   \n",
       "UCG-3jh0W8E4igpKFU2IV8UA       630801  2019-11-07            +1   \n",
       "UC1r60D56JuOPv8BBUM0t8qA     35097982  2020-01-16          +667   \n",
       "...                               ...         ...           ...   \n",
       "UCJ3eQY5XU9IqFWymrQlDDAA          250  2019-12-20            --   \n",
       "UCwhYxesK3zq7ML41AlBsqVg        15483  2020-02-24            +1   \n",
       "UCvCKPrYpQdO6wtiT9G4RJLw         8108  2019-05-28            +1   \n",
       "UCUKEGjiSoFnemBsCLKrdeJA      3624607  2019-12-11           +74   \n",
       "UCS7dY6MyZMulVvBD_X-aMUQ     16664589  2019-12-04          +234   \n",
       "\n",
       "                         daily_avg_views  \n",
       "channel                                   \n",
       "UCSF0PqIaps7jindnj6ICTfQ           +2124  \n",
       "UCiDLfLRyN09V7k14MLf_56Q          +21948  \n",
       "UCIHpnxcP9qGozuEJMYwrJWA             +88  \n",
       "UCG-3jh0W8E4igpKFU2IV8UA           +2553  \n",
       "UC1r60D56JuOPv8BBUM0t8qA          +80302  \n",
       "...                                  ...  \n",
       "UCJ3eQY5XU9IqFWymrQlDDAA              --  \n",
       "UCwhYxesK3zq7ML41AlBsqVg             +60  \n",
       "UCvCKPrYpQdO6wtiT9G4RJLw             +45  \n",
       "UCUKEGjiSoFnemBsCLKrdeJA          +14521  \n",
       "UCS7dY6MyZMulVvBD_X-aMUQ          +34975  \n",
       "\n",
       "[616 rows x 7 columns]"
      ],
      "text/html": "<div>\n<style scoped>\n    .dataframe tbody tr th:only-of-type {\n        vertical-align: middle;\n    }\n\n    .dataframe tbody tr th {\n        vertical-align: top;\n    }\n\n    .dataframe thead th {\n        text-align: right;\n    }\n</style>\n<table border=\"1\" class=\"dataframe\">\n  <thead>\n    <tr style=\"text-align: right;\">\n      <th></th>\n      <th>name</th>\n      <th>uploads</th>\n      <th>subscribers</th>\n      <th>total_views</th>\n      <th>created</th>\n      <th>daily_avg_sub</th>\n      <th>daily_avg_views</th>\n    </tr>\n    <tr>\n      <th>channel</th>\n      <th></th>\n      <th></th>\n      <th></th>\n      <th></th>\n      <th></th>\n      <th></th>\n      <th></th>\n    </tr>\n  </thead>\n  <tbody>\n    <tr>\n      <th>UCSF0PqIaps7jindnj6ICTfQ</th>\n      <td>EyeQew</td>\n      <td>370</td>\n      <td>6.64K</td>\n      <td>1179397</td>\n      <td>2019-05-17</td>\n      <td>+12</td>\n      <td>+2124</td>\n    </tr>\n    <tr>\n      <th>UCiDLfLRyN09V7k14MLf_56Q</th>\n      <td>MxghtyJxstin</td>\n      <td>390</td>\n      <td>26.8K</td>\n      <td>3945939</td>\n      <td>2019-07-07</td>\n      <td>+67</td>\n      <td>+21948</td>\n    </tr>\n    <tr>\n      <th>UCIHpnxcP9qGozuEJMYwrJWA</th>\n      <td>iSighttt</td>\n      <td>27</td>\n      <td>245</td>\n      <td>12160</td>\n      <td>2020-03-21</td>\n      <td>+1</td>\n      <td>+88</td>\n    </tr>\n    <tr>\n      <th>UCG-3jh0W8E4igpKFU2IV8UA</th>\n      <td>Shoobie and Toys</td>\n      <td>60</td>\n      <td>1.23K</td>\n      <td>630801</td>\n      <td>2019-11-07</td>\n      <td>+1</td>\n      <td>+2553</td>\n    </tr>\n    <tr>\n      <th>UC1r60D56JuOPv8BBUM0t8qA</th>\n      <td>Creeper Noob - Minecraft</td>\n      <td>356</td>\n      <td>376K</td>\n      <td>35097982</td>\n      <td>2020-01-16</td>\n      <td>+667</td>\n      <td>+80302</td>\n    </tr>\n    <tr>\n      <th>...</th>\n      <td>...</td>\n      <td>...</td>\n      <td>...</td>\n      <td>...</td>\n      <td>...</td>\n      <td>...</td>\n      <td>...</td>\n    </tr>\n    <tr>\n      <th>UCJ3eQY5XU9IqFWymrQlDDAA</th>\n      <td>Retr0 _ONG</td>\n      <td>49</td>\n      <td>20</td>\n      <td>250</td>\n      <td>2019-12-20</td>\n      <td>--</td>\n      <td>--</td>\n    </tr>\n    <tr>\n      <th>UCwhYxesK3zq7ML41AlBsqVg</th>\n      <td>BloodRodd3097</td>\n      <td>94</td>\n      <td>246</td>\n      <td>15483</td>\n      <td>2020-02-24</td>\n      <td>+1</td>\n      <td>+60</td>\n    </tr>\n    <tr>\n      <th>UCvCKPrYpQdO6wtiT9G4RJLw</th>\n      <td>ChickenDock6549 Gaming</td>\n      <td>81</td>\n      <td>155</td>\n      <td>8108</td>\n      <td>2019-05-28</td>\n      <td>+1</td>\n      <td>+45</td>\n    </tr>\n    <tr>\n      <th>UCUKEGjiSoFnemBsCLKrdeJA</th>\n      <td>BoardGameCo</td>\n      <td>548</td>\n      <td>25.6K</td>\n      <td>3624607</td>\n      <td>2019-12-11</td>\n      <td>+74</td>\n      <td>+14521</td>\n    </tr>\n    <tr>\n      <th>UCS7dY6MyZMulVvBD_X-aMUQ</th>\n      <td>James</td>\n      <td>71</td>\n      <td>236K</td>\n      <td>16664589</td>\n      <td>2019-12-04</td>\n      <td>+234</td>\n      <td>+34975</td>\n    </tr>\n  </tbody>\n</table>\n<p>616 rows × 7 columns</p>\n</div>"
     },
     "metadata": {},
     "execution_count": 16
    }
   ],
   "source": [
    "channels_df"
   ]
  },
  {
   "cell_type": "code",
   "execution_count": 17,
   "metadata": {},
   "outputs": [],
   "source": [
    "channels_df.daily_avg_sub.replace('--', '0', inplace=True)\n",
    "channels_df.daily_avg_sub.replace('\\+', '', inplace=True, regex=True)\n",
    "\n",
    "channels_df.daily_avg_views.replace('--', '0', inplace=True)\n",
    "channels_df.daily_avg_views.replace('\\+', '', inplace=True, regex=True)"
   ]
  },
  {
   "cell_type": "code",
   "execution_count": 18,
   "metadata": {},
   "outputs": [],
   "source": [
    "channels_df['subscribers'] = channels_df['subscribers'].replace({'K': '*1e3', 'M': '*1e6'}, regex=True).map(pd.eval).astype(int)\n",
    "channels_df['daily_avg_sub'] = channels_df['daily_avg_sub'].replace({'K': '*1e3'}, regex=True).map(pd.eval).astype(int)\n",
    "channels_df['daily_avg_views'] = channels_df['daily_avg_views'].replace({'K': '*1e3'}, regex=True).map(pd.eval).astype(int)"
   ]
  },
  {
   "cell_type": "code",
   "execution_count": 19,
   "metadata": {},
   "outputs": [],
   "source": [
    "channels_df['age'] = (pd.Timestamp.today().date() - channels_df.created).dt.days"
   ]
  },
  {
   "cell_type": "code",
   "execution_count": 20,
   "metadata": {},
   "outputs": [],
   "source": [
    "channels_df = channels_df[['total_views', 'uploads', 'subscribers', 'daily_avg_sub', 'daily_avg_views', 'age']]"
   ]
  },
  {
   "cell_type": "code",
   "execution_count": 21,
   "metadata": {},
   "outputs": [],
   "source": [
    "def save_channels_df(df):\n",
    "    # Save channels dictionary object\n",
    "    with open('../data/channels_df', \"wb\") as f:\n",
    "        pickle.dump(channels_df, f)"
   ]
  },
  {
   "cell_type": "code",
   "execution_count": 22,
   "metadata": {},
   "outputs": [],
   "source": [
    "# save_channels_df(channels_df)"
   ]
  },
  {
   "cell_type": "code",
   "execution_count": null,
   "metadata": {},
   "outputs": [],
   "source": []
  }
 ]
}