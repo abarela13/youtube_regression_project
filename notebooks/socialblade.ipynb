{
 "metadata": {
  "language_info": {
   "codemirror_mode": {
    "name": "ipython",
    "version": 3
   },
   "file_extension": ".py",
   "mimetype": "text/x-python",
   "name": "python",
   "nbconvert_exporter": "python",
   "pygments_lexer": "ipython3",
   "version": "3.8.6"
  },
  "orig_nbformat": 2,
  "kernelspec": {
   "name": "python386jvsc74a57bd0e583136a3f54abb5329ac7c861fbbb0ea5afda1ce79984455fa000b60ac3fad7",
   "display_name": "Python 3.8.6 64-bit ('metis': conda)"
  }
 },
 "nbformat": 4,
 "nbformat_minor": 2,
 "cells": [
  {
   "cell_type": "code",
   "execution_count": 25,
   "metadata": {},
   "outputs": [],
   "source": [
    "from selenium.webdriver.chrome.options import Options\n",
    "from os import path, listdir, rename, getcwd\n",
    "from fake_useragent import UserAgent\n",
    "from dateutil.parser import parse\n",
    "from selenium import webdriver\n",
    "from bs4 import BeautifulSoup\n",
    "from math import ceil\n",
    "import pandas as pd\n",
    "import numpy as np\n",
    "import requests\n",
    "import pickle\n",
    "import time"
   ]
  },
  {
   "cell_type": "code",
   "execution_count": 2,
   "metadata": {},
   "outputs": [
    {
     "output_type": "execute_result",
     "data": {
      "text/plain": [
       "'Mozilla/5.0 (Windows NT 5.1) AppleWebKit/537.36 (KHTML, like Gecko) Chrome/35.0.3319.102 Safari/537.36'"
      ]
     },
     "metadata": {},
     "execution_count": 2
    }
   ],
   "source": [
    "def chrome_user_agent():\n",
    "    return UserAgent().chrome\n",
    "\n",
    "chrome_user_agent()"
   ]
  },
  {
   "cell_type": "code",
   "execution_count": 3,
   "metadata": {},
   "outputs": [],
   "source": [
    "def chrome_driver():\n",
    "    options = Options()\n",
    "    # options.add_argument('--headless')\n",
    "    options.add_argument(\"window-size=1600,1080\")\n",
    "    options.add_argument(f'user-agent={chrome_user_agent()}')\n",
    "\n",
    "    return webdriver.Chrome(options=options)"
   ]
  },
  {
   "cell_type": "code",
   "execution_count": 4,
   "metadata": {},
   "outputs": [],
   "source": [
    "def socialblade(channel, driver):\n",
    "    driver.get(f'https://socialblade.com/youtube/channel/{channel}')\n",
    "    \n",
    "    soup = BeautifulSoup(driver.page_source, 'html.parser')\n",
    "\n",
    "    time.sleep(np.random.randint(4,7))\n",
    "    \n",
    "    return soup.find('body').prettify()"
   ]
  },
  {
   "cell_type": "code",
   "execution_count": 5,
   "metadata": {},
   "outputs": [],
   "source": [
    "def save_html(channel, soup):\n",
    "    # open the file in w mode, set encoding to UTF-8\n",
    "    with open(f\"../download/socialblade/new/{channel}.html\", \"w\") as f:\n",
    "        f.write(str(soup))"
   ]
  },
  {
   "cell_type": "code",
   "execution_count": 6,
   "metadata": {},
   "outputs": [],
   "source": [
    "def open_html(channel):\n",
    "    with open(channel, 'r') as f:\n",
    "        return f.read()"
   ]
  },
  {
   "cell_type": "code",
   "execution_count": 7,
   "metadata": {},
   "outputs": [],
   "source": [
    "def check_channel(channel, channels_dict):\n",
    "    # check if channel has been downloaded\n",
    "    if channel not in channels_dict.keys():\n",
    "        save_html(channel, socialblade(channel))\n",
    "        channels_dict[channel] = 'downloaded'\n",
    "\n",
    "    return channels_dict"
   ]
  },
  {
   "cell_type": "code",
   "execution_count": 8,
   "metadata": {},
   "outputs": [],
   "source": [
    "def load_channels_dict():\n",
    "    with open('../data/channels_dict', \"rb\") as f:\n",
    "        channels_dict = pickle.load(f)\n",
    "        return channels_dict"
   ]
  },
  {
   "cell_type": "code",
   "execution_count": 9,
   "metadata": {},
   "outputs": [],
   "source": [
    "def save_channels_dict(channels_dict):\n",
    "    # Save channels dictionary object\n",
    "    with open('../data/channels_dict', \"wb\") as f:\n",
    "        pickle.dump(channels_dict, f)"
   ]
  },
  {
   "cell_type": "code",
   "execution_count": 10,
   "metadata": {},
   "outputs": [],
   "source": [
    "def reset_channels_dictionary():\n",
    "    my_dict = load_channels_dict()\n",
    "\n",
    "    for key in my_dict.keys():\n",
    "        my_dict[key] = 'pending'\n",
    "\n",
    "    for file in listdir('../download/socialblade/new'):\n",
    "        my_dict[file[:-5]] = 'downloaded'\n",
    "\n",
    "    for file in listdir('../download/socialblade/valid'):\n",
    "        my_dict[file[:-5]] = 'valid'\n",
    "\n",
    "    for file in listdir('../download/socialblade/invalid'):\n",
    "        my_dict[file[:-5]] = 'invalid'\n",
    "\n",
    "    save_channels_dict(my_dict)"
   ]
  },
  {
   "cell_type": "code",
   "execution_count": 11,
   "metadata": {},
   "outputs": [
    {
     "output_type": "stream",
     "name": "stdout",
     "text": [
      "pending - 0\nvalid - 616\ninvalid - 19\ndownloaded - 877\n"
     ]
    }
   ],
   "source": [
    "my_dict = load_channels_dict()\n",
    "\n",
    "p_counter, v_counter, i_counter, d_counter = 0,0,0,0\n",
    "\n",
    "for key in my_dict.keys():\n",
    "    if my_dict[key] == 'pending':\n",
    "        p_counter += 1\n",
    "    elif my_dict[key] == 'valid':\n",
    "        v_counter += 1\n",
    "    elif my_dict[key] == 'invalid':\n",
    "        i_counter += 1\n",
    "    elif my_dict[key] == 'downloaded':\n",
    "        d_counter += 1\n",
    "\n",
    "print(f'pending - {p_counter}')\n",
    "print(f'valid - {v_counter}')\n",
    "print(f'invalid - {i_counter}')\n",
    "print(f'downloaded - {d_counter}')"
   ]
  },
  {
   "cell_type": "code",
   "execution_count": 12,
   "metadata": {},
   "outputs": [],
   "source": [
    "def download_missing_channels():\n",
    "    driver = chrome_driver()\n",
    "    driver.get('https://socialblade.com')\n",
    "    time.sleep(7)\n",
    "\n",
    "    channels_dict = load_channels_dict()\n",
    "\n",
    "    for channel in channels_dict.keys():\n",
    "        if channels_dict[channel] == 'pending':\n",
    "            save_html(channel, socialblade(channel, driver))\n",
    "\n",
    "            last = channel\n",
    "\n",
    "            channels_dict[channel] = 'downloaded'\n",
    "            save_channels_dict(channels_dict)\n",
    "\n",
    "    driver.close()"
   ]
  },
  {
   "cell_type": "code",
   "execution_count": 13,
   "metadata": {},
   "outputs": [],
   "source": [
    "# download_missing_channels()"
   ]
  },
  {
   "cell_type": "code",
   "execution_count": 14,
   "metadata": {
    "tags": []
   },
   "outputs": [],
   "source": [
    "def process_channels():\n",
    "    channels_dict = load_channels_dict()\n",
    "\n",
    "    my_list = []\n",
    "\n",
    "    for channel in channels_dict.keys():\n",
    "        if channels_dict[channel] == 'downloaded':\n",
    "            file_name = f'../download/socialblade/{channel}.html'\n",
    "\n",
    "            channel_soup = BeautifulSoup(open_html(file_name))\n",
    "\n",
    "            if channel_soup.find('div', {'id': 'graph-youtube-monthly-vidviews-container'}):\n",
    "                channels_dict[channel] = 'valid'\n",
    "        else:\n",
    "            channels_dict[channel] = 'invalid'\n",
    "    \n",
    "    for channel in channels_dict.keys():\n",
    "        if channels_dict[channel] == 'valid':\n",
    "            file_name = f'../download/socialblade/{channel}.html'\n",
    "\n",
    "            channel_soup = BeautifulSoup(open_html(file_name))\n",
    "\n",
    "            top_info = channel_soup.findAll('div', {'class': 'YouTubeUserTopInfo'})\n",
    "            \n",
    "            name = channel_soup.find('div', {'id': 'YouTubeUserTopInfoBlockTop'}).find('h1').text.strip()\n",
    "            uploads = int(top_info[0].findAll('span')[1].text.replace(',', ''))\n",
    "            subscribers = top_info[1].findAll('span')[1].text.strip()\n",
    "            total_views = int(top_info[2].findAll('span')[1].text.replace(',', ''))\n",
    "            created = parse(top_info[5].findAll('span')[1].text.strip()).date()\n",
    "            daily_avg_sub = channel_soup.find('div', {'id': 'averagedailysubs'}).text.strip().replace(',','')\n",
    "            daily_avg_views = channel_soup.find('div', {'id': 'averagedailyviews'}).text.strip().replace(',','')\n",
    "            \n",
    "            my_list.append([channel, name, uploads, subscribers, total_views, created, daily_avg_sub, daily_avg_views])\n",
    "\n",
    "    save_channels_dict(channels_dict)\n",
    "\n",
    "    return my_list\n",
    "    "
   ]
  },
  {
   "cell_type": "code",
   "execution_count": 15,
   "metadata": {
    "tags": []
   },
   "outputs": [],
   "source": [
    "df_columns = ['channel', 'name', 'uploads', 'subscribers', 'total_views', 'created', 'daily_avg_sub', 'daily_avg_views']\n",
    "channels_df = pd.DataFrame(process_channels(), columns=df_columns).set_index('channel')"
   ]
  },
  {
   "cell_type": "code",
   "execution_count": 16,
   "metadata": {},
   "outputs": [
    {
     "output_type": "execute_result",
     "data": {
      "text/plain": [
       "                                                  name  uploads subscribers  \\\n",
       "channel                                                                       \n",
       "UCJ9UwnsAJu-b2mc4KVAANBw               RustyFoxeGaming       77          81   \n",
       "UCsQIVOWrNBUMXUOg112GnXw              JolliAllGenGamer      583       2.22K   \n",
       "UCFMUPSaXKSl-trspfXD59TQ                    Hubba Noob      556        691K   \n",
       "UCM2JmrhrdFs9tuF7wq4xTsw                   Atomic Dude      204       35.7K   \n",
       "UCYtia5cQdXSWH7GLMWxo9UQ            JShay Translations      223       40.6K   \n",
       "...                                                ...      ...         ...   \n",
       "UCCHzhLksM03P4ge18Qe78Ag                       iDraker       32          58   \n",
       "UCODy2NntK7rUm4kWi8ulOQA                       Djurren       43       2.51K   \n",
       "UCO-5hTPWJaV8uo7L_VwSC7g                         Hanky       41       64.5K   \n",
       "UCj0GHh7vAlQjlsY1IA2AIyg            •. krystalyxx!! .•      108       1.02K   \n",
       "UCVzwqA_beD6P_iyxlYgvR1A  Boyerdi Playz GoAnimate 2021      415       2.19K   \n",
       "\n",
       "                          total_views     created daily_avg_sub  \\\n",
       "channel                                                           \n",
       "UCJ9UwnsAJu-b2mc4KVAANBw         2818  2020-03-20            +1   \n",
       "UCsQIVOWrNBUMXUOg112GnXw      1136845  2019-11-29           +11   \n",
       "UCFMUPSaXKSl-trspfXD59TQ     77996396  2019-09-04         +1.2K   \n",
       "UCM2JmrhrdFs9tuF7wq4xTsw     29723263  2019-07-08          +277   \n",
       "UCYtia5cQdXSWH7GLMWxo9UQ     28143726  2020-09-22           +97   \n",
       "...                               ...         ...           ...   \n",
       "UCCHzhLksM03P4ge18Qe78Ag         1886  2019-10-12            +1   \n",
       "UCODy2NntK7rUm4kWi8ulOQA         6422  2019-05-26            +3   \n",
       "UCO-5hTPWJaV8uo7L_VwSC7g      2795902  2019-08-26            +7   \n",
       "UCj0GHh7vAlQjlsY1IA2AIyg       117831  2019-06-19            +2   \n",
       "UCVzwqA_beD6P_iyxlYgvR1A       431728  2019-10-06            +7   \n",
       "\n",
       "                         daily_avg_views  \n",
       "channel                                   \n",
       "UCJ9UwnsAJu-b2mc4KVAANBw             +13  \n",
       "UCsQIVOWrNBUMXUOg112GnXw           +9143  \n",
       "UCFMUPSaXKSl-trspfXD59TQ         +166237  \n",
       "UCM2JmrhrdFs9tuF7wq4xTsw         +272130  \n",
       "UCYtia5cQdXSWH7GLMWxo9UQ         +111455  \n",
       "...                                  ...  \n",
       "UCCHzhLksM03P4ge18Qe78Ag              +4  \n",
       "UCODy2NntK7rUm4kWi8ulOQA             +12  \n",
       "UCO-5hTPWJaV8uo7L_VwSC7g            +434  \n",
       "UCj0GHh7vAlQjlsY1IA2AIyg             +71  \n",
       "UCVzwqA_beD6P_iyxlYgvR1A           +1712  \n",
       "\n",
       "[858 rows x 7 columns]"
      ],
      "text/html": "<div>\n<style scoped>\n    .dataframe tbody tr th:only-of-type {\n        vertical-align: middle;\n    }\n\n    .dataframe tbody tr th {\n        vertical-align: top;\n    }\n\n    .dataframe thead th {\n        text-align: right;\n    }\n</style>\n<table border=\"1\" class=\"dataframe\">\n  <thead>\n    <tr style=\"text-align: right;\">\n      <th></th>\n      <th>name</th>\n      <th>uploads</th>\n      <th>subscribers</th>\n      <th>total_views</th>\n      <th>created</th>\n      <th>daily_avg_sub</th>\n      <th>daily_avg_views</th>\n    </tr>\n    <tr>\n      <th>channel</th>\n      <th></th>\n      <th></th>\n      <th></th>\n      <th></th>\n      <th></th>\n      <th></th>\n      <th></th>\n    </tr>\n  </thead>\n  <tbody>\n    <tr>\n      <th>UCJ9UwnsAJu-b2mc4KVAANBw</th>\n      <td>RustyFoxeGaming</td>\n      <td>77</td>\n      <td>81</td>\n      <td>2818</td>\n      <td>2020-03-20</td>\n      <td>+1</td>\n      <td>+13</td>\n    </tr>\n    <tr>\n      <th>UCsQIVOWrNBUMXUOg112GnXw</th>\n      <td>JolliAllGenGamer</td>\n      <td>583</td>\n      <td>2.22K</td>\n      <td>1136845</td>\n      <td>2019-11-29</td>\n      <td>+11</td>\n      <td>+9143</td>\n    </tr>\n    <tr>\n      <th>UCFMUPSaXKSl-trspfXD59TQ</th>\n      <td>Hubba Noob</td>\n      <td>556</td>\n      <td>691K</td>\n      <td>77996396</td>\n      <td>2019-09-04</td>\n      <td>+1.2K</td>\n      <td>+166237</td>\n    </tr>\n    <tr>\n      <th>UCM2JmrhrdFs9tuF7wq4xTsw</th>\n      <td>Atomic Dude</td>\n      <td>204</td>\n      <td>35.7K</td>\n      <td>29723263</td>\n      <td>2019-07-08</td>\n      <td>+277</td>\n      <td>+272130</td>\n    </tr>\n    <tr>\n      <th>UCYtia5cQdXSWH7GLMWxo9UQ</th>\n      <td>JShay Translations</td>\n      <td>223</td>\n      <td>40.6K</td>\n      <td>28143726</td>\n      <td>2020-09-22</td>\n      <td>+97</td>\n      <td>+111455</td>\n    </tr>\n    <tr>\n      <th>...</th>\n      <td>...</td>\n      <td>...</td>\n      <td>...</td>\n      <td>...</td>\n      <td>...</td>\n      <td>...</td>\n      <td>...</td>\n    </tr>\n    <tr>\n      <th>UCCHzhLksM03P4ge18Qe78Ag</th>\n      <td>iDraker</td>\n      <td>32</td>\n      <td>58</td>\n      <td>1886</td>\n      <td>2019-10-12</td>\n      <td>+1</td>\n      <td>+4</td>\n    </tr>\n    <tr>\n      <th>UCODy2NntK7rUm4kWi8ulOQA</th>\n      <td>Djurren</td>\n      <td>43</td>\n      <td>2.51K</td>\n      <td>6422</td>\n      <td>2019-05-26</td>\n      <td>+3</td>\n      <td>+12</td>\n    </tr>\n    <tr>\n      <th>UCO-5hTPWJaV8uo7L_VwSC7g</th>\n      <td>Hanky</td>\n      <td>41</td>\n      <td>64.5K</td>\n      <td>2795902</td>\n      <td>2019-08-26</td>\n      <td>+7</td>\n      <td>+434</td>\n    </tr>\n    <tr>\n      <th>UCj0GHh7vAlQjlsY1IA2AIyg</th>\n      <td>•. krystalyxx!! .•</td>\n      <td>108</td>\n      <td>1.02K</td>\n      <td>117831</td>\n      <td>2019-06-19</td>\n      <td>+2</td>\n      <td>+71</td>\n    </tr>\n    <tr>\n      <th>UCVzwqA_beD6P_iyxlYgvR1A</th>\n      <td>Boyerdi Playz GoAnimate 2021</td>\n      <td>415</td>\n      <td>2.19K</td>\n      <td>431728</td>\n      <td>2019-10-06</td>\n      <td>+7</td>\n      <td>+1712</td>\n    </tr>\n  </tbody>\n</table>\n<p>858 rows × 7 columns</p>\n</div>"
     },
     "metadata": {},
     "execution_count": 16
    }
   ],
   "source": [
    "channels_df"
   ]
  },
  {
   "cell_type": "code",
   "execution_count": 17,
   "metadata": {},
   "outputs": [],
   "source": [
    "channels_df.daily_avg_sub.replace('--', '0', inplace=True)\n",
    "channels_df.daily_avg_sub.replace('\\+', '', inplace=True, regex=True)\n",
    "\n",
    "channels_df.daily_avg_views.replace('--', '0', inplace=True)\n",
    "channels_df.daily_avg_views.replace('\\+', '', inplace=True, regex=True)"
   ]
  },
  {
   "cell_type": "code",
   "execution_count": 18,
   "metadata": {},
   "outputs": [],
   "source": [
    "channels_df['subscribers'] = channels_df['subscribers'].replace({'K': '*1e3', 'M': '*1e6'}, regex=True).map(pd.eval).astype(int)\n",
    "channels_df['daily_avg_sub'] = channels_df['daily_avg_sub'].replace({'K': '*1e3'}, regex=True).map(pd.eval).astype(int)\n",
    "channels_df['daily_avg_views'] = channels_df['daily_avg_views'].replace({'K': '*1e3'}, regex=True).map(pd.eval).astype(int)"
   ]
  },
  {
   "cell_type": "code",
   "execution_count": null,
   "metadata": {},
   "outputs": [],
   "source": []
  },
  {
   "cell_type": "code",
   "execution_count": 19,
   "metadata": {},
   "outputs": [],
   "source": [
    "channels_df['age'] = (pd.Timestamp.today().date() - channels_df.created).dt.days"
   ]
  },
  {
   "cell_type": "code",
   "execution_count": 20,
   "metadata": {},
   "outputs": [],
   "source": [
    "channels_df = channels_df[['total_views', 'uploads', 'subscribers', 'daily_avg_sub', 'daily_avg_views', 'age']]"
   ]
  },
  {
   "cell_type": "code",
   "execution_count": 44,
   "metadata": {},
   "outputs": [],
   "source": [
    "channels_df['views_per_video'] = (channels_df['total_views'] / channels_df['uploads']).round(1)"
   ]
  },
  {
   "cell_type": "code",
   "execution_count": 42,
   "metadata": {},
   "outputs": [],
   "source": [
    "channels_df['weekly_videos'] = ((channels_df['uploads'] / channels_df['age']) * 7).round(1)"
   ]
  },
  {
   "cell_type": "code",
   "execution_count": 48,
   "metadata": {},
   "outputs": [],
   "source": [
    "# drop channels that have no video upload\n",
    "channels_df = channels_df[channels_df.uploads != 0]"
   ]
  },
  {
   "cell_type": "code",
   "execution_count": 49,
   "metadata": {},
   "outputs": [
    {
     "output_type": "execute_result",
     "data": {
      "text/plain": [
       "                          total_views  uploads  subscribers  daily_avg_sub  \\\n",
       "channel                                                                      \n",
       "UCJ9UwnsAJu-b2mc4KVAANBw         2818       77           81              1   \n",
       "UCsQIVOWrNBUMXUOg112GnXw      1136845      583         2220             11   \n",
       "UCFMUPSaXKSl-trspfXD59TQ     77996396      556       691000           1200   \n",
       "UCM2JmrhrdFs9tuF7wq4xTsw     29723263      204        35700            277   \n",
       "UCYtia5cQdXSWH7GLMWxo9UQ     28143726      223        40600             97   \n",
       "...                               ...      ...          ...            ...   \n",
       "UCCHzhLksM03P4ge18Qe78Ag         1886       32           58              1   \n",
       "UCODy2NntK7rUm4kWi8ulOQA         6422       43         2510              3   \n",
       "UCO-5hTPWJaV8uo7L_VwSC7g      2795902       41        64500              7   \n",
       "UCj0GHh7vAlQjlsY1IA2AIyg       117831      108         1020              2   \n",
       "UCVzwqA_beD6P_iyxlYgvR1A       431728      415         2190              7   \n",
       "\n",
       "                          daily_avg_views  age  views_per_video  weekly_videos  \n",
       "channel                                                                         \n",
       "UCJ9UwnsAJu-b2mc4KVAANBw               13  417             36.6            1.3  \n",
       "UCsQIVOWrNBUMXUOg112GnXw             9143  529           1950.0            7.7  \n",
       "UCFMUPSaXKSl-trspfXD59TQ           166237  615         140281.3            6.3  \n",
       "UCM2JmrhrdFs9tuF7wq4xTsw           272130  673         145702.3            2.1  \n",
       "UCYtia5cQdXSWH7GLMWxo9UQ           111455  231         126205.0            6.8  \n",
       "...                                   ...  ...              ...            ...  \n",
       "UCCHzhLksM03P4ge18Qe78Ag                4  577             58.9            0.4  \n",
       "UCODy2NntK7rUm4kWi8ulOQA               12  716            149.3            0.4  \n",
       "UCO-5hTPWJaV8uo7L_VwSC7g              434  624          68192.7            0.5  \n",
       "UCj0GHh7vAlQjlsY1IA2AIyg               71  692           1091.0            1.1  \n",
       "UCVzwqA_beD6P_iyxlYgvR1A             1712  583           1040.3            5.0  \n",
       "\n",
       "[854 rows x 8 columns]"
      ],
      "text/html": "<div>\n<style scoped>\n    .dataframe tbody tr th:only-of-type {\n        vertical-align: middle;\n    }\n\n    .dataframe tbody tr th {\n        vertical-align: top;\n    }\n\n    .dataframe thead th {\n        text-align: right;\n    }\n</style>\n<table border=\"1\" class=\"dataframe\">\n  <thead>\n    <tr style=\"text-align: right;\">\n      <th></th>\n      <th>total_views</th>\n      <th>uploads</th>\n      <th>subscribers</th>\n      <th>daily_avg_sub</th>\n      <th>daily_avg_views</th>\n      <th>age</th>\n      <th>views_per_video</th>\n      <th>weekly_videos</th>\n    </tr>\n    <tr>\n      <th>channel</th>\n      <th></th>\n      <th></th>\n      <th></th>\n      <th></th>\n      <th></th>\n      <th></th>\n      <th></th>\n      <th></th>\n    </tr>\n  </thead>\n  <tbody>\n    <tr>\n      <th>UCJ9UwnsAJu-b2mc4KVAANBw</th>\n      <td>2818</td>\n      <td>77</td>\n      <td>81</td>\n      <td>1</td>\n      <td>13</td>\n      <td>417</td>\n      <td>36.6</td>\n      <td>1.3</td>\n    </tr>\n    <tr>\n      <th>UCsQIVOWrNBUMXUOg112GnXw</th>\n      <td>1136845</td>\n      <td>583</td>\n      <td>2220</td>\n      <td>11</td>\n      <td>9143</td>\n      <td>529</td>\n      <td>1950.0</td>\n      <td>7.7</td>\n    </tr>\n    <tr>\n      <th>UCFMUPSaXKSl-trspfXD59TQ</th>\n      <td>77996396</td>\n      <td>556</td>\n      <td>691000</td>\n      <td>1200</td>\n      <td>166237</td>\n      <td>615</td>\n      <td>140281.3</td>\n      <td>6.3</td>\n    </tr>\n    <tr>\n      <th>UCM2JmrhrdFs9tuF7wq4xTsw</th>\n      <td>29723263</td>\n      <td>204</td>\n      <td>35700</td>\n      <td>277</td>\n      <td>272130</td>\n      <td>673</td>\n      <td>145702.3</td>\n      <td>2.1</td>\n    </tr>\n    <tr>\n      <th>UCYtia5cQdXSWH7GLMWxo9UQ</th>\n      <td>28143726</td>\n      <td>223</td>\n      <td>40600</td>\n      <td>97</td>\n      <td>111455</td>\n      <td>231</td>\n      <td>126205.0</td>\n      <td>6.8</td>\n    </tr>\n    <tr>\n      <th>...</th>\n      <td>...</td>\n      <td>...</td>\n      <td>...</td>\n      <td>...</td>\n      <td>...</td>\n      <td>...</td>\n      <td>...</td>\n      <td>...</td>\n    </tr>\n    <tr>\n      <th>UCCHzhLksM03P4ge18Qe78Ag</th>\n      <td>1886</td>\n      <td>32</td>\n      <td>58</td>\n      <td>1</td>\n      <td>4</td>\n      <td>577</td>\n      <td>58.9</td>\n      <td>0.4</td>\n    </tr>\n    <tr>\n      <th>UCODy2NntK7rUm4kWi8ulOQA</th>\n      <td>6422</td>\n      <td>43</td>\n      <td>2510</td>\n      <td>3</td>\n      <td>12</td>\n      <td>716</td>\n      <td>149.3</td>\n      <td>0.4</td>\n    </tr>\n    <tr>\n      <th>UCO-5hTPWJaV8uo7L_VwSC7g</th>\n      <td>2795902</td>\n      <td>41</td>\n      <td>64500</td>\n      <td>7</td>\n      <td>434</td>\n      <td>624</td>\n      <td>68192.7</td>\n      <td>0.5</td>\n    </tr>\n    <tr>\n      <th>UCj0GHh7vAlQjlsY1IA2AIyg</th>\n      <td>117831</td>\n      <td>108</td>\n      <td>1020</td>\n      <td>2</td>\n      <td>71</td>\n      <td>692</td>\n      <td>1091.0</td>\n      <td>1.1</td>\n    </tr>\n    <tr>\n      <th>UCVzwqA_beD6P_iyxlYgvR1A</th>\n      <td>431728</td>\n      <td>415</td>\n      <td>2190</td>\n      <td>7</td>\n      <td>1712</td>\n      <td>583</td>\n      <td>1040.3</td>\n      <td>5.0</td>\n    </tr>\n  </tbody>\n</table>\n<p>854 rows × 8 columns</p>\n</div>"
     },
     "metadata": {},
     "execution_count": 49
    }
   ],
   "source": [
    "channels_df"
   ]
  },
  {
   "cell_type": "code",
   "execution_count": 50,
   "metadata": {},
   "outputs": [],
   "source": [
    "def save_channels_df(df):\n",
    "    # Save channels dictionary object\n",
    "    with open('../data/channels_df', \"wb\") as f:\n",
    "        pickle.dump(channels_df, f)"
   ]
  },
  {
   "cell_type": "code",
   "execution_count": 51,
   "metadata": {},
   "outputs": [],
   "source": [
    "save_channels_df(channels_df)"
   ]
  },
  {
   "cell_type": "code",
   "execution_count": null,
   "metadata": {},
   "outputs": [],
   "source": []
  }
 ]
}