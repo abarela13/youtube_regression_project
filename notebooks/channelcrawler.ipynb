{
 "metadata": {
  "language_info": {
   "codemirror_mode": {
    "name": "ipython",
    "version": 3
   },
   "file_extension": ".py",
   "mimetype": "text/x-python",
   "name": "python",
   "nbconvert_exporter": "python",
   "pygments_lexer": "ipython3",
   "version": "3.8.5"
  },
  "orig_nbformat": 2,
  "kernelspec": {
   "name": "python385jvsc74a57bd0b2101d37a27f96f4f7fea72a5df474858455db9f1046b80da2382a1f257a28e9",
   "display_name": "Python 3.8.5 64-bit ('base': conda)"
  }
 },
 "nbformat": 4,
 "nbformat_minor": 2,
 "cells": [
  {
   "cell_type": "code",
   "execution_count": 2,
   "metadata": {},
   "outputs": [],
   "source": [
    "from bs4 import BeautifulSoup\n",
    "from os import path\n",
    "import requests\n",
    "import pickle"
   ]
  },
  {
   "cell_type": "code",
   "execution_count": 3,
   "metadata": {},
   "outputs": [],
   "source": [
    "url = 'https://channelcrawler.com/eng/results/1677375/:page1'\r\n",
    "data = requests.get(url)\r\n",
    "\r\n",
    "# load data into bs4\r\n",
    "soup = BeautifulSoup(data.text, 'html.parser')"
   ]
  },
  {
   "cell_type": "code",
   "execution_count": 44,
   "metadata": {},
   "outputs": [],
   "source": [
    "content = soup.findAll('div', {'class': 'row'})[1]"
   ]
  },
  {
   "cell_type": "code",
   "execution_count": 62,
   "metadata": {},
   "outputs": [],
   "source": [
    "channel_dictionary = {}\n",
    "\n",
    "for channel in content.find_all('div', {'class': 'channel'}):\n",
    "    title = channel.find('h4').find('a').text\n",
    "    id = channel.find('h4').find('a')['href'][31:]\n",
    "\n",
    "    channel_dictionary\n",
    "\n",
    "# Save the soup object to a file\n",
    "with open('../download/channelcrawler/1677375_01', \"wb\") as f:\n",
    "    pickle.dump(channel_list, f)"
   ]
  },
  {
   "cell_type": "code",
   "execution_count": 63,
   "metadata": {},
   "outputs": [],
   "source": [
    "# Read the soup object from a file\n",
    "with open(\"../download/channelcrawler/1677375_01\", \"rb\") as f:\n",
    "    page_list = pickle.load(f)"
   ]
  },
  {
   "cell_type": "code",
   "execution_count": 64,
   "metadata": {},
   "outputs": [
    {
     "output_type": "execute_result",
     "data": {
      "text/plain": [
       "['UC9ho8fNWiCNRvzD-CskZl7A',\n",
       " 'UChgyCGvk51k8yYTlnyYfNSQ',\n",
       " 'UCMr7sVFnwINXThZAo0Ajd7w',\n",
       " 'UCSnnIiccmUlbC0Ybc2po0mg',\n",
       " 'UCSKCW0pHHE_l-T015cNkzvg',\n",
       " 'UC-X_KFzqDNUrLRcMG4XbmIA',\n",
       " 'UCmBPkm5v4J27h5RRBhh-qfA',\n",
       " 'UCGB1r9m7hlk0s3pLjm6tO-A',\n",
       " 'UCYaB9NvNDC3RYNNUgQIhfTg',\n",
       " 'UCfgNYwEzTKf-70SXPgPSYkA',\n",
       " 'UCmENxk0Axy8LBjr4NRa3JVw',\n",
       " 'UCnQ2dI6GMfXAHnVXn-9JIlg',\n",
       " 'UCbdPuZlF9LPJUcuvxOwMNeg',\n",
       " 'UCumkGyjsczE1EUywOW2yinw',\n",
       " 'UCblfeVQ0Q5QRUrKy3VAC6RQ',\n",
       " 'UCxqWZGYQvtOYGe_sjlpJFCQ',\n",
       " 'UCbEwJ_s9euEoAg-AbVxOAAg',\n",
       " 'UCNIrZprt6-TjGX-8cnm-9zQ',\n",
       " 'UCFY9CwZI12UjNbLNSrUgyvg',\n",
       " 'UCkO6IMvwEXvdcRyG-qVlD7g']"
      ]
     },
     "metadata": {},
     "execution_count": 64
    }
   ],
   "source": [
    "page_list"
   ]
  },
  {
   "cell_type": "code",
   "execution_count": null,
   "metadata": {},
   "outputs": [],
   "source": []
  }
 ]
}